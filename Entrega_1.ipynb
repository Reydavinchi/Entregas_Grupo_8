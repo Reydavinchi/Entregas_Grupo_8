{
 "cells": [
  {
   "cell_type": "markdown",
   "id": "2a44fd1e",
   "metadata": {
    "id": "2a44fd1e"
   },
   "source": [
    "# Tarea 1\n"
   ]
  },
  {
   "cell_type": "markdown",
   "id": "bdacefa6",
   "metadata": {
    "id": "bdacefa6"
   },
   "source": [
    "Fecha de entrega:\n",
    "Jueves 7 de agosto, 2025, 11:59pm\n",
    "\n",
    "Comentarios generales:\n",
    "\n",
    "- No olvidar que python usa el snake_case (o minúsculas separadas por subguión) para llamar a sus variables.\n",
    "- No nombrar variables con acentos porque algunas veces, dependiendo de la máquina en la que se corra, esto será aceptado o no.\n",
    "- Leer  claramente qué es lo que pide la pregunta.  \n",
    "   \n"
   ]
  },
  {
   "cell_type": "markdown",
   "id": "80152401",
   "metadata": {
    "id": "80152401"
   },
   "source": [
    "Ejemplo:  Utilizando sólo los siguientes inputs numéricos: ```5``` y ```2```  , maneje los operadores tal que el output sea ```120```. Crea una variable con el resultado."
   ]
  },
  {
   "cell_type": "code",
   "execution_count": null,
   "id": "uAeG6614stB0",
   "metadata": {
    "id": "uAeG6614stB0",
    "outputId": "60035514-deb5-4eaf-9c29-172e0bdeecf8"
   },
   "outputs": [
    {
     "data": {
      "text/plain": [
       "120"
      ]
     },
     "execution_count": 3,
     "metadata": {},
     "output_type": "execute_result"
    }
   ],
   "source": [
    "#Respuesta\n",
    "output = (5*2)**2 + 5*2**2\n",
    "output"
   ]
  },
  {
   "cell_type": "markdown",
   "id": "a8018627",
   "metadata": {
    "id": "a8018627"
   },
   "source": [
    "1.  Utilizando sólo los siguientes inputs: ```5``` y ```2```  , maneje los operadores tal que el output sea ```100```"
   ]
  },
  {
   "cell_type": "code",
   "execution_count": 3,
   "id": "1f723e46",
   "metadata": {
    "id": "1f723e46"
   },
   "outputs": [
    {
     "name": "stdout",
     "output_type": "stream",
     "text": [
      "100\n"
     ]
    }
   ],
   "source": [
    "ejercicio_1 = (5 ** 2) * 4  # 25 * 4 = 100\n",
    "print(ejercicio_1)"
   ]
  },
  {
   "cell_type": "markdown",
   "id": "994dc4bc",
   "metadata": {
    "id": "994dc4bc"
   },
   "source": [
    "2. Evalúa que el output del ejemplo sea mayor al output de 1. Crea una variable con esta evaluación (Hint: Será un booleano)."
   ]
  },
  {
   "cell_type": "code",
   "execution_count": null,
   "id": "b8928779",
   "metadata": {
    "id": "b8928779"
   },
   "outputs": [],
   "source": []
  },
  {
   "cell_type": "markdown",
   "id": "69918902",
   "metadata": {
    "id": "69918902"
   },
   "source": [
    "3. Utilizando sólo los siguientes inputs: ```51``` maneja los operadores tal que el output sea ```0```"
   ]
  },
  {
   "cell_type": "code",
   "execution_count": null,
   "id": "4dcc2afa",
   "metadata": {
    "id": "4dcc2afa"
   },
   "outputs": [],
   "source": []
  },
  {
   "cell_type": "markdown",
   "id": "97cf5786",
   "metadata": {
    "id": "97cf5786"
   },
   "source": [
    "4.  Utilizando sólo los siguientes inputs: ```2``` (todos los 2 que necesites) maneja los operadores tal que el output sea ```5```"
   ]
  },
  {
   "cell_type": "code",
   "execution_count": null,
   "id": "418fdb47",
   "metadata": {
    "id": "418fdb47"
   },
   "outputs": [],
   "source": []
  },
  {
   "cell_type": "markdown",
   "id": "178e7ec3",
   "metadata": {
    "id": "178e7ec3"
   },
   "source": [
    "5. Crea una variable ```x``` y una variable ```y``` que sumen 2500. Crea una variable ```v``` que dé un booleano, tal que evalúe que ```x + y``` sea igual a 2200."
   ]
  },
  {
   "cell_type": "code",
   "execution_count": null,
   "id": "0e75e524",
   "metadata": {
    "id": "0e75e524"
   },
   "outputs": [],
   "source": []
  },
  {
   "cell_type": "markdown",
   "id": "163e5332",
   "metadata": {
    "id": "163e5332"
   },
   "source": [
    "6. Cree una variable ```z``` y una variable ```a``` que sumen 1000."
   ]
  },
  {
   "cell_type": "code",
   "execution_count": null,
   "id": "846bea9d",
   "metadata": {
    "id": "846bea9d"
   },
   "outputs": [],
   "source": []
  },
  {
   "cell_type": "markdown",
   "id": "c222c968",
   "metadata": {
    "id": "c222c968"
   },
   "source": [
    "7. Calcula cuántas horas trabajan en total los 130 congresistas de nuestro país en un año. Asume que trabajan 40 horas a la semana, por 48 semanas al año (considerando que tienen vacaciones y no trabajan sobretiempo)."
   ]
  },
  {
   "cell_type": "code",
   "execution_count": null,
   "id": "5deb8908",
   "metadata": {
    "id": "5deb8908"
   },
   "outputs": [],
   "source": []
  },
  {
   "cell_type": "markdown",
   "id": "80e32ec2",
   "metadata": {
    "id": "80e32ec2"
   },
   "source": [
    "8. Ahora calcula el salario de un congresista por hora. Los supuestos del anterior ejercicio se mantienen (Se puede pasar por alto las vacaciones). Cabe recordar que los congresistas ganan 15,600 soles mensuales.   \n",
    "- Crea una variable para el salario por hora de un congresista.   \n",
    "- Crea una variable para la suma de los salarios por hora de los 130 congresistas.\n"
   ]
  },
  {
   "cell_type": "code",
   "execution_count": null,
   "id": "6d98f342",
   "metadata": {
    "id": "6d98f342"
   },
   "outputs": [],
   "source": []
  },
  {
   "cell_type": "markdown",
   "id": "ae512853",
   "metadata": {
    "id": "ae512853"
   },
   "source": [
    "9. Con la reducción del IGV para restaurantes y hoteles (https://emprender.sunat.gob.pe/tributando/temas-actualidad/reduccion-igv-para-restaurantes-hoteles), los restaurantes pagan el 10% de IGV. Un restaurante factura 3426 soles diarios, en promedio, después de impuestos. Calcule el valor base (el IGV es 10% sobre el valor base, ó 1 + .1).\n",
    "\n",
    "Calcule, utilizando el valor base, cuánto es el descuento del IGV en soles (o el 8% de este valor base).\n",
    "\n",
    "Cree una variable para cada uno de los siguientes:\n",
    "- porcentaje de IGV\n",
    "- el total de facturación\n",
    "- el monto del impuesto\n",
    "- el valor base sin impuesto\n",
    "- el descuento de IGV en soles. Puedes comprobar tu fórmula con cualquier recibo de pago que detalle el IGV."
   ]
  },
  {
   "cell_type": "code",
   "execution_count": null,
   "id": "51599f11",
   "metadata": {
    "id": "51599f11"
   },
   "outputs": [],
   "source": []
  },
  {
   "cell_type": "markdown",
   "id": "69f6e4f9",
   "metadata": {
    "id": "69f6e4f9"
   },
   "source": [
    "10.  Cristina percibe el sueldo mínimo (1130 soles). Compruebe que el salario anual de Cristina es menor al salario anual de un congresista, usando operadores de comparación y una expresión que detalle el monto mensual y el número de meses trabajados de ambos. La comparación debe ser ser evaluada a un booleano"
   ]
  },
  {
   "cell_type": "code",
   "execution_count": null,
   "id": "cc09bc62",
   "metadata": {
    "id": "cc09bc62"
   },
   "outputs": [],
   "source": []
  },
  {
   "cell_type": "markdown",
   "id": "37de8248",
   "metadata": {
    "id": "37de8248"
   },
   "source": [
    "11. Una conocida petrolera debe volver a compensar a  1023 familias que se dedican a la pesca por la contaminación causada en el mar donde pescan. El nuevo monto negociado es de 1200 millones de soles, sin embargo, una cláusula del contrato dice que el monto de compensación tiene que ser un número entero. ¿Cuántos soles adicionales se le  tiene  que agregar al monto negociado para que las familias reciban una cantidad entera,  asumiendo que para lograr este número entero, hay que elevar el monto total? (Pista: Acuérdate del  floor y el módulo)."
   ]
  },
  {
   "cell_type": "code",
   "execution_count": null,
   "id": "948141a9",
   "metadata": {
    "id": "948141a9"
   },
   "outputs": [],
   "source": []
  },
  {
   "cell_type": "markdown",
   "id": "75a0de8e",
   "metadata": {
    "id": "75a0de8e"
   },
   "source": [
    "12. Crea una variable igual a una lista que contenga:\n",
    "- un string,\n",
    "- un booleano,\n",
    "- dos valores numéricos (de cualquier tipo) y\n",
    "- una lista de dos strings con el nombre de tus artistas musicales favoritos."
   ]
  },
  {
   "cell_type": "code",
   "execution_count": null,
   "id": "721f56c9",
   "metadata": {
    "id": "721f56c9"
   },
   "outputs": [],
   "source": []
  },
  {
   "cell_type": "markdown",
   "id": "5e64d253",
   "metadata": {
    "id": "5e64d253"
   },
   "source": [
    "13. Tenemos la siguiente lista de cursos:"
   ]
  },
  {
   "cell_type": "code",
   "execution_count": null,
   "id": "8011eabe",
   "metadata": {
    "id": "8011eabe"
   },
   "outputs": [],
   "source": [
    "cursos = [\"Ciencia Politica\", \"Economia\", \"Antropologia\", \"Sociologia\", \"Relaciones Internacionales\"]\n"
   ]
  },
  {
   "cell_type": "markdown",
   "id": "df10d9ac",
   "metadata": {
    "id": "df10d9ac"
   },
   "source": [
    "Realiza las siguientes operaciones en bloques diferentes:\n",
    "- Calcula cuántos elementos tiene la lista."
   ]
  },
  {
   "cell_type": "code",
   "execution_count": null,
   "id": "2610418e",
   "metadata": {
    "id": "2610418e"
   },
   "outputs": [],
   "source": []
  },
  {
   "cell_type": "markdown",
   "id": "0e1e30ac",
   "metadata": {
    "id": "0e1e30ac"
   },
   "source": [
    "13.1. Agrega tres cursos adicionales de 3 formas diferentes (uno por forma):\n",
    "   - Suma (+) una lista que contenga un curso adicional.\n",
    "   - Usa el append.\n",
    "   - Usa el extend."
   ]
  },
  {
   "cell_type": "code",
   "execution_count": null,
   "id": "dd9e9b9f",
   "metadata": {
    "id": "dd9e9b9f"
   },
   "outputs": [],
   "source": []
  },
  {
   "cell_type": "markdown",
   "id": "42a424de",
   "metadata": {
    "id": "42a424de"
   },
   "source": [
    "13.2.\n",
    "- Usa la indexación para señalar a _Relaciones Internacionales_."
   ]
  },
  {
   "cell_type": "code",
   "execution_count": null,
   "id": "a453c0fe",
   "metadata": {
    "id": "a453c0fe"
   },
   "outputs": [],
   "source": []
  },
  {
   "cell_type": "markdown",
   "id": "f842a7f3",
   "metadata": {
    "id": "f842a7f3"
   },
   "source": [
    "13.3.\n",
    "- Remueve el curso que menos te guste de la lista.\n"
   ]
  },
  {
   "cell_type": "code",
   "execution_count": null,
   "id": "03d70f60",
   "metadata": {
    "id": "03d70f60"
   },
   "outputs": [],
   "source": []
  },
  {
   "cell_type": "markdown",
   "id": "f9952c8d",
   "metadata": {
    "id": "f9952c8d"
   },
   "source": [
    "14\n",
    "Tenemos los siguientes números: 22, 27, 74.2, 16.8, 125, 80, 100.\n",
    " - Crea una lista con ellos.\n",
    " - Ordena la lista de menor a mayor.\n",
    " - Saca el promedio de los números de la lista.  \n",
    "(Realiza cada uno en bloques separados)."
   ]
  },
  {
   "cell_type": "code",
   "execution_count": null,
   "id": "f0eb206f",
   "metadata": {
    "id": "f0eb206f"
   },
   "outputs": [],
   "source": []
  },
  {
   "cell_type": "markdown",
   "id": "09559938",
   "metadata": {
    "id": "09559938"
   },
   "source": [
    "15.Utilizando un “if else” cree una estructura que evalúe “x” tal que:\n",
    "\n",
    "Si x es múltiplo de 2 imprima “Es múltiplo de 2”.\n",
    "\n",
    "Si x es múltiplo de 3 imprima “Es múltiplo de 3”\n",
    "\n",
    "Si x es múltiplo de 2 y 3 imprima “Es múltiplo de 2 y 3”\n",
    "\n",
    "Para otro caso, imprime “Otro caso”\n",
    "Muestra un ejemplo con x = 6.\n",
    "\n"
   ]
  },
  {
   "cell_type": "code",
   "execution_count": null,
   "id": "97f32ab2",
   "metadata": {
    "id": "97f32ab2"
   },
   "outputs": [],
   "source": []
  },
  {
   "cell_type": "markdown",
   "id": "ab0213b2",
   "metadata": {
    "id": "ab0213b2"
   },
   "source": [
    "16.Crea una función llamada clasificar_edad() que reciba como parámetro la edad de una\n",
    "persona. La función debe clasificar a la persona en una de las siguientes categorías:\n",
    "\n",
    "\"Niño\" si la edad es menor de 12 años.\n",
    "\n",
    "\"Adolescente\" si la edad está entre 12 y 17 años.\n",
    "\n",
    "“Joven” si la edad está entre 18 y 24 años.\n",
    "\n",
    "\"Adulto\" si la edad está entre 25 y 64 años.\n",
    "\n",
    "\"Adulto Mayor\" si la edad es mayor o igual a 65 años.\n",
    "\n",
    "La función debe devolver la categoría correspondiente. Prueba la función con las edades de\n",
    "10, 19, 25 y 70."
   ]
  },
  {
   "cell_type": "code",
   "execution_count": null,
   "id": "7cdc55b3",
   "metadata": {
    "id": "7cdc55b3"
   },
   "outputs": [],
   "source": []
  },
  {
   "cell_type": "code",
   "execution_count": null,
   "id": "e70d08fb",
   "metadata": {
    "id": "e70d08fb"
   },
   "outputs": [],
   "source": []
  },
  {
   "cell_type": "code",
   "execution_count": null,
   "id": "464dcfcb",
   "metadata": {
    "id": "464dcfcb"
   },
   "outputs": [],
   "source": []
  },
  {
   "cell_type": "code",
   "execution_count": null,
   "id": "9fc3cdc5",
   "metadata": {
    "id": "9fc3cdc5"
   },
   "outputs": [],
   "source": []
  }
 ],
 "metadata": {
  "colab": {
   "provenance": []
  },
  "kernelspec": {
   "display_name": "Python 3",
   "language": "python",
   "name": "python3"
  },
  "language_info": {
   "codemirror_mode": {
    "name": "ipython",
    "version": 3
   },
   "file_extension": ".py",
   "mimetype": "text/x-python",
   "name": "python",
   "nbconvert_exporter": "python",
   "pygments_lexer": "ipython3",
   "version": "3.12.10"
  }
 },
 "nbformat": 4,
 "nbformat_minor": 5
}
